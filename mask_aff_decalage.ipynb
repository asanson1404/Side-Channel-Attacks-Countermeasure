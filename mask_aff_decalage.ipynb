{
 "cells": [
  {
   "cell_type": "code",
   "execution_count": 1,
   "id": "f78cda5f",
   "metadata": {},
   "outputs": [],
   "source": [
    "from numpy import array\n",
    "\n",
    "LogTable = array([ \n",
    "                          0,   0,  25,   1,  50,   2,  26, 198,  75, 199,  27, 104,  51, 238, 223,   3,\n",
    "                        100,   4, 224,  14,  52, 141, 129, 239,  76, 113,   8, 200, 248, 105,  28, 193,\n",
    "                        125, 194,  29, 181, 249, 185,  39, 106,  77, 228, 166, 114, 154, 201,   9, 120,\n",
    "                        101,  47, 138,   5,  33,  15, 225,  36,  18, 240, 130,  69,  53, 147, 218, 142,\n",
    "                        150, 143, 219, 189,  54, 208, 206, 148,  19,  92, 210, 241,  64,  70, 131,  56,\n",
    "                        102, 221, 253,  48, 191,   6, 139,  98, 179,  37, 226, 152,  34, 136, 145,  16,\n",
    "                        126, 110,  72, 195, 163, 182,  30,  66,  58, 107,  40,  84, 250, 133,  61, 186,\n",
    "                        43, 121,  10,  21, 155, 159,  94, 202,  78, 212, 172, 229, 243, 115, 167,  87,\n",
    "                        175,  88, 168,  80, 244, 234, 214, 116,  79, 174, 233, 213, 231, 230, 173, 232,\n",
    "                        44, 215, 117, 122, 235,  22,  11, 245,  89, 203,  95, 176, 156, 169,  81, 160,\n",
    "                        127,  12, 246, 111,  23, 196,  73, 236, 216,  67,  31,  45, 164, 118, 123, 183,\n",
    "                        204, 187,  62,  90, 251,  96, 177, 134,  59,  82, 161, 108, 170,  85,  41, 157,\n",
    "                        151, 178, 135, 144,  97, 190, 220, 252, 188, 149, 207, 205,  55,  63,  91, 209,\n",
    "                        83,  57, 132,  60,  65, 162, 109,  71,  20,  42, 158,  93,  86, 242, 211, 171,\n",
    "                        68,  17, 146, 217,  35,  32,  46, 137, 180, 124, 184,  38, 119, 153, 227, 165,\n",
    "                        103,  74, 237, 222, 197,  49, 254,  24,  13,  99, 140, 128, 192, 247, 112,   7\n",
    "                   ])\n",
    "\n",
    "\n",
    "ALogTab = array([\n",
    "                        1,   3,   5,  15,  17,  51,  85, 255,  26,  46, 114, 150, 161, 248,  19,  53,\n",
    "                       95, 225,  56,  72, 216, 115, 149, 164, 247,   2,   6,  10,  30,  34, 102, 170,\n",
    "                      229,  52,  92, 228,  55,  89, 235,  38, 106, 190, 217, 112, 144, 171, 230,  49,\n",
    "                       83, 245,   4,  12,  20,  60,  68, 204,  79, 209, 104, 184, 211, 110, 178, 205,\n",
    "                       76, 212, 103, 169, 224,  59,  77, 215,  98, 166, 241,   8,  24,  40, 120, 136,\n",
    "                      131, 158, 185, 208, 107, 189, 220, 127, 129, 152, 179, 206,  73, 219, 118, 154,\n",
    "                      181, 196,  87, 249,  16,  48,  80, 240,  11,  29,  39, 105, 187, 214,  97, 163,\n",
    "                      254,  25,  43, 125, 135, 146, 173, 236,  47, 113, 147, 174, 233,  32,  96, 160,\n",
    "                      251,  22,  58,  78, 210, 109, 183, 194,  93, 231,  50,  86, 250,  21,  63,  65,\n",
    "                      195,  94, 226,  61,  71, 201,  64, 192,  91, 237,  44, 116, 156, 191, 218, 117,\n",
    "                      159, 186, 213, 100, 172, 239,  42, 126, 130, 157, 188, 223, 122, 142, 137, 128,\n",
    "                      155, 182, 193,  88, 232,  35, 101, 175, 234,  37, 111, 177, 200,  67, 197,  84,\n",
    "                      252,  31,  33,  99, 165, 244,   7,   9,  27,  45, 119, 153, 176, 203,  70, 202,\n",
    "                       69, 207,  74, 222, 121, 139, 134, 145, 168, 227,  62,  66, 198,  81, 243,  14,\n",
    "                       18,  54,  90, 238,  41, 123, 141, 140, 143, 138, 133, 148, 167, 242,  13,  23,\n",
    "                       57,  75, 221, 124, 132, 151, 162, 253,  28,  36, 108, 180, 199,  82, 246,   1\n",
    "                ])"
   ]
  },
  {
   "cell_type": "code",
   "execution_count": 2,
   "id": "7757f475",
   "metadata": {},
   "outputs": [],
   "source": [
    "# Multiplication dans le corps GF(256)\n",
    "def mulGF256(a, b):\n",
    "    if a==0 or b==0:\n",
    "        return 0\n",
    "    return ALogTab[(LogTable[a] + LogTable[b]) % 255]\n",
    "\n",
    "# Inverse de la multiplication dans le corps GF(256) ==> Division\n",
    "def invmulGF256(a):\n",
    "    ind = -LogTable[a] + 255\n",
    "    return ALogTab[ind]\n",
    "\n",
    "# Fonction de masquage\n",
    "def G(a, r1, r0):\n",
    "    return (mulGF256(a, r1) ^ r0)\n",
    "\n",
    "# Fonction de démasquage\n",
    "def Ginv(a, r1, r0):\n",
    "    return mulGF256(a ^ r0, invmulGF256(r1))"
   ]
  },
  {
   "cell_type": "code",
   "execution_count": 4,
   "id": "2533b8bd",
   "metadata": {},
   "outputs": [
    {
     "name": "stdout",
     "output_type": "stream",
     "text": [
      "Tous les tests sont passés bravo!\n"
     ]
    }
   ],
   "source": [
    "# Soit G la fonction de masquage affine\n",
    "# G(k) << n = r1.k.2^n + 2^n.r0\n",
    "# et G(k << n) = (r1.k.2^n) + r0\n",
    "\n",
    "# Donc, (G(k) << n) + 2^n.r0 + r0 = G(k << n)\n",
    "\n",
    "# Cette équation est vérifiable ici pour toutes les valeurs possible de n, k, r1 et r0\n",
    "\n",
    "for n in range(8):\n",
    "    for k in range(256):\n",
    "        for r1 in range(256):\n",
    "            for r0 in range(256):\n",
    "                test = mulGF256(G(k, r1, r0), 1 << n) ^ (mulGF256(r0, 1 << n)) ^ r0\n",
    "                ref = mulGF256(r1, mulGF256(k, 1 << n)) ^ r0\n",
    "                if (test != ref):\n",
    "                    error_mess = \"Erreur pour k=\" + str(k) + \" et n=\" + str(n)\n",
    "                    print(error_mess)\n",
    "\n",
    "print(\"Tous les tests sont passés bravo!\")\n",
    "\n"
   ]
  },
  {
   "cell_type": "code",
   "execution_count": 3,
   "id": "e3d1df4f",
   "metadata": {},
   "outputs": [],
   "source": [
    "# Maintenant, pour valider notre modèle, il faut que :\n",
    "# Ginv((G(k) << n) + 2^n.r0 + r0) = Ginv(G(k << n))) = (k << n) & 0xff"
   ]
  },
  {
   "cell_type": "code",
   "execution_count": 4,
   "id": "31261a95",
   "metadata": {},
   "outputs": [
    {
     "name": "stdout",
     "output_type": "stream",
     "text": [
      "Erreur pour k = 128\n",
      "Erreur pour k = 129\n",
      "Erreur pour k = 130\n",
      "Erreur pour k = 131\n",
      "Erreur pour k = 132\n",
      "Erreur pour k = 133\n",
      "Erreur pour k = 134\n",
      "Erreur pour k = 135\n",
      "Erreur pour k = 136\n",
      "Erreur pour k = 137\n",
      "Erreur pour k = 138\n",
      "Erreur pour k = 139\n",
      "Erreur pour k = 140\n",
      "Erreur pour k = 141\n",
      "Erreur pour k = 142\n",
      "Erreur pour k = 143\n",
      "Erreur pour k = 144\n",
      "Erreur pour k = 145\n",
      "Erreur pour k = 146\n",
      "Erreur pour k = 147\n",
      "Erreur pour k = 148\n",
      "Erreur pour k = 149\n",
      "Erreur pour k = 150\n",
      "Erreur pour k = 151\n",
      "Erreur pour k = 152\n",
      "Erreur pour k = 153\n",
      "Erreur pour k = 154\n",
      "Erreur pour k = 155\n",
      "Erreur pour k = 156\n",
      "Erreur pour k = 157\n",
      "Erreur pour k = 158\n",
      "Erreur pour k = 159\n",
      "Erreur pour k = 160\n",
      "Erreur pour k = 161\n",
      "Erreur pour k = 162\n",
      "Erreur pour k = 163\n",
      "Erreur pour k = 164\n",
      "Erreur pour k = 165\n",
      "Erreur pour k = 166\n",
      "Erreur pour k = 167\n",
      "Erreur pour k = 168\n",
      "Erreur pour k = 169\n",
      "Erreur pour k = 170\n",
      "Erreur pour k = 171\n",
      "Erreur pour k = 172\n",
      "Erreur pour k = 173\n",
      "Erreur pour k = 174\n",
      "Erreur pour k = 175\n",
      "Erreur pour k = 176\n",
      "Erreur pour k = 177\n",
      "Erreur pour k = 178\n",
      "Erreur pour k = 179\n",
      "Erreur pour k = 180\n",
      "Erreur pour k = 181\n",
      "Erreur pour k = 182\n",
      "Erreur pour k = 183\n",
      "Erreur pour k = 184\n",
      "Erreur pour k = 185\n",
      "Erreur pour k = 186\n",
      "Erreur pour k = 187\n",
      "Erreur pour k = 188\n",
      "Erreur pour k = 189\n",
      "Erreur pour k = 190\n",
      "Erreur pour k = 191\n",
      "Erreur pour k = 192\n",
      "Erreur pour k = 193\n",
      "Erreur pour k = 194\n",
      "Erreur pour k = 195\n",
      "Erreur pour k = 196\n",
      "Erreur pour k = 197\n",
      "Erreur pour k = 198\n",
      "Erreur pour k = 199\n",
      "Erreur pour k = 200\n",
      "Erreur pour k = 201\n",
      "Erreur pour k = 202\n",
      "Erreur pour k = 203\n",
      "Erreur pour k = 204\n",
      "Erreur pour k = 205\n",
      "Erreur pour k = 206\n",
      "Erreur pour k = 207\n",
      "Erreur pour k = 208\n",
      "Erreur pour k = 209\n",
      "Erreur pour k = 210\n",
      "Erreur pour k = 211\n",
      "Erreur pour k = 212\n",
      "Erreur pour k = 213\n",
      "Erreur pour k = 214\n",
      "Erreur pour k = 215\n",
      "Erreur pour k = 216\n",
      "Erreur pour k = 217\n",
      "Erreur pour k = 218\n",
      "Erreur pour k = 219\n",
      "Erreur pour k = 220\n",
      "Erreur pour k = 221\n",
      "Erreur pour k = 222\n",
      "Erreur pour k = 223\n",
      "Erreur pour k = 224\n",
      "Erreur pour k = 225\n",
      "Erreur pour k = 226\n",
      "Erreur pour k = 227\n",
      "Erreur pour k = 228\n",
      "Erreur pour k = 229\n",
      "Erreur pour k = 230\n",
      "Erreur pour k = 231\n",
      "Erreur pour k = 232\n",
      "Erreur pour k = 233\n",
      "Erreur pour k = 234\n",
      "Erreur pour k = 235\n",
      "Erreur pour k = 236\n",
      "Erreur pour k = 237\n",
      "Erreur pour k = 238\n",
      "Erreur pour k = 239\n",
      "Erreur pour k = 240\n",
      "Erreur pour k = 241\n",
      "Erreur pour k = 242\n",
      "Erreur pour k = 243\n",
      "Erreur pour k = 244\n",
      "Erreur pour k = 245\n",
      "Erreur pour k = 246\n",
      "Erreur pour k = 247\n",
      "Erreur pour k = 248\n",
      "Erreur pour k = 249\n",
      "Erreur pour k = 250\n",
      "Erreur pour k = 251\n",
      "Erreur pour k = 252\n",
      "Erreur pour k = 253\n",
      "Erreur pour k = 254\n",
      "Erreur pour k = 255\n"
     ]
    }
   ],
   "source": [
    "# Ca marche pour toutes les valeurs < 128 pour n = 1\n",
    "\n",
    "# On prend des valeurs arbitraires pour r1 et r0\n",
    "r1 = 215\n",
    "r0 = 24\n",
    "n = 1\n",
    "\n",
    "for k in range(256):\n",
    "    mask_shift = mulGF256(G(k, r1, r0), 1 << n) ^ mulGF256(r0, 1 << n) ^ r0\n",
    "    shift = Ginv(mask_shift, r1, r0)\n",
    "    ref = (k << n) & 0xff\n",
    "    if shift != ref:\n",
    "        print(\"Erreur pour k = \" + str(k))        "
   ]
  },
  {
   "cell_type": "code",
   "execution_count": 5,
   "id": "b5c4d04e",
   "metadata": {},
   "outputs": [],
   "source": [
    "# En fait je pense que l'erreur est le fait de considérer le décalage comme une multiplication dans GF(256)\n",
    "# Ceci est vrai (décalage = mulGF256) si et seulement si (x << n) appartient à GF(256).\n",
    "# Lorsque (G(k) << n) overflow, on ne peut plus dire que G(k) << n = mulGF256(G(k), 1 << n) \n",
    "# car G(k) n'appartient pas à GF(256)\n",
    "\n",
    "# Ci dessus 128 << 1 = 128*2 = 256 n'appartient pas à GF(256)"
   ]
  },
  {
   "cell_type": "code",
   "execution_count": 6,
   "id": "976d1ad3",
   "metadata": {},
   "outputs": [],
   "source": [
    "# r1 et r0 pour le calcul des tables\n",
    "# (valeurs totalement arbitraires qui doivent être recalculés à chaque nouvelles valeurs de r1 et r0)\n",
    "r1 = 56\n",
    "r0 = 73"
   ]
  },
  {
   "cell_type": "code",
   "execution_count": 7,
   "id": "d3000d5a",
   "metadata": {},
   "outputs": [
    {
     "name": "stdout",
     "output_type": "stream",
     "text": [
      "[113, 73, 73, 113, 73, 113, 113, 73, 113, 73, 73, 113, 73, 113, 113, 73, 73, 113, 113, 73, 113, 73, 73, 113, 73, 113, 113, 73, 113, 73, 73, 113, 73, 113, 113, 73, 113, 73, 73, 113, 73, 113, 113, 73, 113, 73, 73, 113, 113, 73, 73, 113, 73, 113, 113, 73, 113, 73, 73, 113, 73, 113, 113, 73, 113, 73, 73, 113, 73, 113, 113, 73, 113, 73, 73, 113, 73, 113, 113, 73, 73, 113, 113, 73, 113, 73, 73, 113, 73, 113, 113, 73, 113, 73, 73, 113, 73, 113, 113, 73, 113, 73, 73, 113, 73, 113, 113, 73, 113, 73, 73, 113, 113, 73, 73, 113, 73, 113, 113, 73, 113, 73, 73, 113, 73, 113, 113, 73, 73, 113, 113, 73, 113, 73, 73, 113, 73, 113, 113, 73, 113, 73, 73, 113, 113, 73, 73, 113, 73, 113, 113, 73, 113, 73, 73, 113, 73, 113, 113, 73, 113, 73, 73, 113, 73, 113, 113, 73, 113, 73, 73, 113, 73, 113, 113, 73, 73, 113, 113, 73, 113, 73, 73, 113, 73, 113, 113, 73, 113, 73, 73, 113, 73, 113, 113, 73, 113, 73, 73, 113, 73, 113, 113, 73, 113, 73, 73, 113, 113, 73, 73, 113, 73, 113, 113, 73, 113, 73, 73, 113, 73, 113, 113, 73, 113, 73, 73, 113, 73, 113, 113, 73, 113, 73, 73, 113, 73, 113, 113, 73, 73, 113, 113, 73, 113, 73, 73, 113, 73, 113, 113, 73, 113, 73, 73, 113] 256\n"
     ]
    }
   ],
   "source": [
    "# Décallage de 1 vers la gauche (left shift 1)\n",
    "ls1 = [0] * 256\n",
    "# Décallage de 7 vers la gauche (left shift 7)\n",
    "ls7 = [0] * 256\n",
    "# Décallage de 5 vers la droite (right shift 5)\n",
    "rs5 = [0] * 256\n",
    "\n",
    "for k in range(256):\n",
    "    ls1[mulGF256(k, r1) ^ r0] = mulGF256(r1, (k << 1)&0xff) ^ r0\n",
    "    ls7[mulGF256(k, r1) ^ r0] = mulGF256(r1, (k << 7)&0xff) ^ r0\n",
    "    rs5[mulGF256(k, r1) ^ r0] = mulGF256(r1, (k >> 5)&0x01) ^ r0\n",
    "\n",
    "#print(ls1, len(ls1))\n",
    "#print(ls7, len(ls7))\n",
    "print(rs5, len(rs5))"
   ]
  },
  {
   "cell_type": "code",
   "execution_count": 8,
   "id": "fd051831",
   "metadata": {},
   "outputs": [
    {
     "name": "stdout",
     "output_type": "stream",
     "text": [
      "Tous les tests sont passés !\n"
     ]
    }
   ],
   "source": [
    "# Test le décallage vers la gauche de 1 et 7 \n",
    "\n",
    "for k in range(256):\n",
    "    test_ls1 = ls1[G(k, r1, r0)]\n",
    "    test_ls7 = ls7[G(k, r1, r0)]\n",
    "    test_rs5 = rs5[G(k, r1, r0)]\n",
    "    inv_test_ls1 = Ginv(test_ls1, r1, r0)\n",
    "    inv_test_ls7 = Ginv(test_ls7, r1, r0)\n",
    "    inv_test_rs5 = Ginv(test_rs5, r1, r0)    \n",
    "    \n",
    "    ref_ls1 = (k << 1) & 0xff\n",
    "    ref_ls7 = (k << 7) & 0xff\n",
    "    ref_rs5 = (k >> 5) & 0x01\n",
    "    \n",
    "    if inv_test_ls1 != ref_ls1 or inv_test_ls7 != ref_ls7 or inv_test_rs5 != ref_rs5:\n",
    "        print(\"Error for k = \" + str(k))\n",
    "\n",
    "print(\"Tous les tests sont passés !\")"
   ]
  },
  {
   "cell_type": "code",
   "execution_count": 9,
   "id": "6ae28106",
   "metadata": {},
   "outputs": [
    {
     "name": "stdout",
     "output_type": "stream",
     "text": [
      "Tous les tests sont passés bravo!\n"
     ]
    }
   ],
   "source": [
    "# Rotation de 1 vers la gauche\n",
    "rot_left_1 = [0] * 256\n",
    "\n",
    "for k in range(256):\n",
    "    ref = (k << 1) & 0xff ^ (k >> 7) & 0x01\n",
    "    rot_left_1[mulGF256(k, r1) ^ r0] = G(ref, r1, r0)\n",
    "\n",
    "#print(rot_left_1)\n",
    "\n",
    "# Test rotation de 1 vers la gauche\n",
    "for k in range(256):\n",
    "    test_rot = rot_left_1[G(k, r1, r0)]\n",
    "    inv_test_rot = Ginv(test_rot, r1, r0)\n",
    "    ref_rot = (k << 1) & 0xff ^ (k >> 7) & 0x01\n",
    "    if inv_test_rot != ref_rot:\n",
    "        print(\"Error for k = \" + str(k))\n",
    "\n",
    "print(\"Tous les tests sont passés bravo!\")"
   ]
  },
  {
   "cell_type": "code",
   "execution_count": 10,
   "id": "7c9029b1",
   "metadata": {},
   "outputs": [
    {
     "name": "stdout",
     "output_type": "stream",
     "text": [
      "Tous les tests sont passés bravo!\n"
     ]
    }
   ],
   "source": [
    "# Rotation de 1 vers la droite\n",
    "rot_right_1 = [0] * 256\n",
    "\n",
    "for k in range(256):\n",
    "    ref = (k >> 1) & 0x7f ^ (k << 7) & 0x80\n",
    "    rot_right_1[mulGF256(k, r1) ^ r0] = G(ref, r1, r0)\n",
    "\n",
    "#print(rot_right_1)\n",
    "\n",
    "# Test rotation de 1 vers la gauche\n",
    "for k in range(256):\n",
    "    test_rot = rot_right_1[G(k, r1, r0)]\n",
    "    inv_test_rot = Ginv(test_rot, r1, r0)\n",
    "    ref_rot = (k >> 1) & 0x7f ^ (k << 7) & 0x80\n",
    "    if inv_test_rot != ref_rot:\n",
    "        print(\"Error for k = \" + str(k))\n",
    "\n",
    "print(\"Tous les tests sont passés bravo!\")"
   ]
  },
  {
   "cell_type": "code",
   "execution_count": 12,
   "id": "ee4b3461",
   "metadata": {},
   "outputs": [
    {
     "name": "stdout",
     "output_type": "stream",
     "text": [
      "01010100\n",
      "10100100\n",
      "00000001\n"
     ]
    }
   ],
   "source": [
    "test_ref = 0b10101010\n",
    "test_aff = G(0b10101010, r1, r0)\n",
    "\n",
    "\n",
    "ref = ((test_ref<<1)&0xFE)^((test_ref>>7)&0x01)^((test_ref>>5)&0x01)\n",
    "\n",
    "ref2 = rot_left_1[test_aff] ^ rs5[0b10101010]#^ ((test_aff>>5)&0x01)\n",
    "\n",
    "deca5 = rs5[G(0b10101010, r1, r0)]\n",
    "\n",
    "print(\"{:08b}\".format(ref))\n",
    "print(\"{:08b}\".format(Ginv(ref2, r1, r0)))\n",
    "print(\"{:08b}\".format(Ginv(deca5, r1, r0)))"
   ]
  },
  {
   "cell_type": "code",
   "execution_count": 21,
   "id": "e5b04b1d",
   "metadata": {},
   "outputs": [
    {
     "name": "stdout",
     "output_type": "stream",
     "text": [
      "00000000\n",
      "11000000\n",
      "Error for k =  1\n"
     ]
    }
   ],
   "source": [
    "# Vérification de l'associativité du décallage\n",
    "\n",
    "# Valeurs arbitraires de r1 et r0\n",
    "r1 = 224\n",
    "r0 = 89\n",
    "\n",
    "for k in range(2):\n",
    "    ref = (mulGF256(r1, k) << 1) & 0xff\n",
    "    print(\"{:08b}\".format((mulGF256(r1, k) << 1)&0xff))\n",
    "    test = mulGF256(r1, k << 1) & 0xff\n",
    "    if test != ref:\n",
    "        print(\"Error for k = \", k)"
   ]
  },
  {
   "cell_type": "code",
   "execution_count": null,
   "id": "8c6642df",
   "metadata": {},
   "outputs": [],
   "source": []
  }
 ],
 "metadata": {
  "kernelspec": {
   "display_name": "Python 3 (ipykernel)",
   "language": "python",
   "name": "python3"
  },
  "language_info": {
   "codemirror_mode": {
    "name": "ipython",
    "version": 3
   },
   "file_extension": ".py",
   "mimetype": "text/x-python",
   "name": "python",
   "nbconvert_exporter": "python",
   "pygments_lexer": "ipython3",
   "version": "3.9.5"
  },
  "vscode": {
   "interpreter": {
    "hash": "561efebf354c691812757073485a7017726980d02c431ceb7deca93fe70da573"
   }
  }
 },
 "nbformat": 4,
 "nbformat_minor": 5
}
